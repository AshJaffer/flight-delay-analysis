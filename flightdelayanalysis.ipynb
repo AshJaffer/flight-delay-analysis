{
 "cells": [
  {
   "cell_type": "markdown",
   "id": "2f12c95e-eb80-467f-9b93-97123c276ca0",
   "metadata": {},
   "source": [
    "# Flight Delay Analysis: Major US Airports 2015\n",
    "## Introduction\n",
    "This analysis examines flight delay patterns and airline performance across major US airports (BOS, JFK, SFO, and LAX) using the Department of Transportation's 2015 dataset. We focus on data manipulation using Python's core data science libraries to derive meaningful insights about flight operations and delays."
   ]
  },
  {
   "cell_type": "markdown",
   "id": "4290d930-a697-4a03-a637-5d63b85d4d25",
   "metadata": {},
   "source": [
    "## Data Preparation\n",
    "### 1. Initial Setup"
   ]
  },
  {
   "cell_type": "code",
   "execution_count": 2,
   "id": "66572aab-e4f2-4cb9-9609-145ce91c7f0e",
   "metadata": {},
   "outputs": [],
   "source": [
    "import pandas as pd\n",
    "import numpy as np\n",
    "import warnings\n",
    "warnings.filterwarnings('ignore')\n",
    "\n",
    "# Set file paths\n",
    "base_path = 'assets/'\n",
    "\n",
    "# Load datasets\n",
    "flights_df_raw = pd.read_csv(f'{base_path}flights.csv', low_memory=False)\n",
    "airports_df = pd.read_csv(f'{base_path}airports.csv')\n",
    "airlines_df = pd.read_csv(f'{base_path}airlines.csv')"
   ]
  },
  {
   "cell_type": "markdown",
   "id": "0b9b5b55-1d09-4a58-a22a-ed754fdc49cc",
   "metadata": {},
   "source": [
    "### 2. Data Preprocessing Function\n",
    "Our core preprocessing function handles several key tasks:\n",
    "\n",
    "Filtering specific airports (BOS, JFK, SFO, LAX)\n",
    "Handling missing values\n",
    "Converting data types\n",
    "Creating derived features"
   ]
  },
  {
   "cell_type": "code",
   "execution_count": 3,
   "id": "31f95af3-8bfa-4f9d-80c6-3c9648edb1a1",
   "metadata": {},
   "outputs": [
    {
     "name": "stdout",
     "output_type": "stream",
     "text": [
      "\n",
      "Question 1 Results:\n",
      "DataFrame Shape after cleaning: (535744, 7)\n",
      "\n",
      "First few rows of cleaned data:\n",
      "  ORIGIN_AIRPORT DESTINATION_AIRPORT AIRLINE FLIGHT_NUMBER  \\\n",
      "0            LAX                 PBI      AA          2336   \n",
      "1            SFO                 CLT      US           840   \n",
      "2            LAX                 MIA      AA           258   \n",
      "4            SFO                 MSP      DL           806   \n",
      "6            LAX                 CLT      US          2013   \n",
      "\n",
      "  SCHEDULED_DEPARTURE  DEPARTURE_DELAY  IS_DELAYED  \n",
      "0 2015-01-01 00:10:00             -8.0       False  \n",
      "1 2015-01-01 00:20:00             -2.0       False  \n",
      "2 2015-01-01 00:20:00             -5.0       False  \n",
      "4 2015-01-01 00:25:00             -5.0       False  \n",
      "6 2015-01-01 00:30:00             14.0       False  \n"
     ]
    }
   ],
   "source": [
    "import pandas as pd\n",
    "import numpy as np\n",
    "import warnings\n",
    "\n",
    "warnings.filterwarnings('ignore')\n",
    "\n",
    "base_path = 'assets/'\n",
    "\n",
    "# Load data with correct file paths\n",
    "flights_df_raw = pd.read_csv(f'{base_path}flights.csv', low_memory=False)\n",
    "airports_df = pd.read_csv(f'{base_path}airports.csv')\n",
    "airlines_df = pd.read_csv(f'{base_path}airlines.csv')\n",
    "\n",
    "def data_preprocess(flights_df):\n",
    "    \"\"\"\n",
    "    Data preprocessing function exactly as shown in the reference\n",
    "    \"\"\"\n",
    "    # Remove rows with missing values\n",
    "    flights_df = flights_df.dropna()\n",
    "\n",
    "    # Filter by specific airports\n",
    "    airports = ['BOS', 'JFK', 'SFO', 'LAX']\n",
    "    flights_df = flights_df[flights_df['ORIGIN_AIRPORT'].isin(airports)]\n",
    "\n",
    "    # Filter out flights with more than 1 day delay\n",
    "    flights_df = flights_df[flights_df['DEPARTURE_DELAY'] <= 1440]\n",
    "\n",
    "    # Convert FLIGHT_NUMBER to string\n",
    "    flights_df['FLIGHT_NUMBER'] = flights_df['FLIGHT_NUMBER'].astype(str)\n",
    "\n",
    "    # Convert SCHEDULED_DEPARTURE to datetime\n",
    "    flights_df['SCHEDULED_DEPARTURE'] = pd.to_datetime(\n",
    "        flights_df[['YEAR', 'MONTH', 'DAY']].astype(str).agg('-'.join, axis=1) +\n",
    "        ' ' +\n",
    "        (flights_df['SCHEDULED_DEPARTURE'] // 100).astype(int).astype(str).str.zfill(2) +\n",
    "        ':' +\n",
    "        (flights_df['SCHEDULED_DEPARTURE'] % 100).astype(int).astype(str).str.zfill(2)\n",
    "    )\n",
    "\n",
    "    # Add IS_DELAYED column\n",
    "    flights_df['IS_DELAYED'] = flights_df['DEPARTURE_DELAY'] >= 15\n",
    "\n",
    "    # Drop unnecessary columns\n",
    "    flights_df.drop(['YEAR', 'MONTH', 'DAY'], axis=1, inplace=True)\n",
    "\n",
    "    return flights_df\n",
    "\n",
    "# Preprocess the flight data and print results\n",
    "flights_df = data_preprocess(flights_df_raw.copy())\n",
    "print(\"\\nQuestion 1 Results:\")\n",
    "print(f\"DataFrame Shape after cleaning: {flights_df.shape}\")\n",
    "print(\"\\nFirst few rows of cleaned data:\")\n",
    "print(flights_df.head())"
   ]
  },
  {
   "cell_type": "markdown",
   "id": "0703b331-424e-4e6e-8154-a8c0ad70fc19",
   "metadata": {},
   "source": [
    "## Analysis Components\n",
    "### 1. Data Cleaning and Initial Analysis\n",
    "Objective: Process the raw flight data and establish our baseline dataset."
   ]
  },
  {
   "cell_type": "code",
   "execution_count": 4,
   "id": "07a7c068-e6d9-4ba7-bcbe-958b350335b3",
   "metadata": {},
   "outputs": [
    {
     "name": "stdout",
     "output_type": "stream",
     "text": [
      "DataFrame Shape after cleaning: (535744, 7)\n",
      "\n",
      "First few rows of cleaned data:\n",
      "  ORIGIN_AIRPORT DESTINATION_AIRPORT AIRLINE FLIGHT_NUMBER  \\\n",
      "0            LAX                 PBI      AA          2336   \n",
      "1            SFO                 CLT      US           840   \n",
      "2            LAX                 MIA      AA           258   \n",
      "4            SFO                 MSP      DL           806   \n",
      "6            LAX                 CLT      US          2013   \n",
      "\n",
      "  SCHEDULED_DEPARTURE  DEPARTURE_DELAY  IS_DELAYED  \n",
      "0 2015-01-01 00:10:00             -8.0       False  \n",
      "1 2015-01-01 00:20:00             -2.0       False  \n",
      "2 2015-01-01 00:20:00             -5.0       False  \n",
      "4 2015-01-01 00:25:00             -5.0       False  \n",
      "6 2015-01-01 00:30:00             14.0       False  \n"
     ]
    }
   ],
   "source": [
    "flights_df = data_preprocess(flights_df_raw.copy())\n",
    "print(f\"DataFrame Shape after cleaning: {flights_df.shape}\")\n",
    "print(\"\\nFirst few rows of cleaned data:\")\n",
    "print(flights_df.head())"
   ]
  },
  {
   "cell_type": "markdown",
   "id": "f45ffaef-8b05-4d75-a6a2-28b1817ce33f",
   "metadata": {},
   "source": [
    "### 2. Airport Flight Volume Analysis\n",
    "Objective: Determine the number of flights operating from each airport."
   ]
  },
  {
   "cell_type": "code",
   "execution_count": 5,
   "id": "4edb44fd-9f12-47a7-a028-e84927fe8b70",
   "metadata": {},
   "outputs": [
    {
     "name": "stdout",
     "output_type": "stream",
     "text": [
      "\n",
      "Question 2 Results:\n",
      "Number of flights per airport:\n",
      "           NUM_FLIGHTS\n",
      "IATA_CODE             \n",
      "BOS             105276\n",
      "JFK              91933\n",
      "SFO             145951\n",
      "LAX             192584\n"
     ]
    }
   ],
   "source": [
    "# Calculate Number of Flights per Airport\n",
    "def flights_per_airport(flights_df, airports_df):\n",
    "    flights_df = data_preprocess(flights_df)\n",
    "\n",
    "    # Merge with airports data\n",
    "    merged_df = flights_df.merge(airports_df, left_on='ORIGIN_AIRPORT', right_on='IATA_CODE', how='inner')\n",
    "\n",
    "    # Calculate the number of flights per airport\n",
    "    num_flights_df = merged_df.groupby('IATA_CODE').size().reset_index(name='NUM_FLIGHTS')\n",
    "\n",
    "    # Reindex to get counts for specific airports\n",
    "    num_flights_df.set_index('IATA_CODE', inplace=True)\n",
    "    num_flights_df = num_flights_df.reindex(['BOS', 'JFK', 'SFO', 'LAX']).reset_index()\n",
    "    num_flights_df = num_flights_df.set_index(num_flights_df.columns[0])\n",
    "\n",
    "    return num_flights_df\n",
    "\n",
    "# Get the number of flights per airport\n",
    "num_flights_df = flights_per_airport(flights_df_raw.copy(), airports_df.copy())\n",
    "print(\"\\nQuestion 2 Results:\")\n",
    "print(f\"Number of flights per airport:\\n{num_flights_df}\")"
   ]
  },
  {
   "cell_type": "markdown",
   "id": "6eda5a8f-f675-4598-a881-204debf47222",
   "metadata": {},
   "source": [
    "### 3. Airline Performance Analysis\n",
    "Objective: Identify and analyze the top three airlines based on flight volume and delay metrics."
   ]
  },
  {
   "cell_type": "code",
   "execution_count": 7,
   "id": "3e701ea1-559c-453c-b626-dd797f813c23",
   "metadata": {},
   "outputs": [
    {
     "name": "stdout",
     "output_type": "stream",
     "text": [
      "\n",
      "Question 3 Results:\n",
      "Top three airlines:\n",
      "             AIRLINE_NAME  NUM_FLIGHTS  PERC_DELAY\n",
      "0   United Air Lines Inc.        86562   23.265405\n",
      "1         JetBlue Airways        85920   20.798417\n",
      "2  American Airlines Inc.        77024   15.351059\n"
     ]
    }
   ],
   "source": [
    "# Identify Top Three Airlines by Number of Flights and Delay Percentage\n",
    "def top_three_airlines(flights_df, airlines_df):\n",
    "    flights_df = data_preprocess(flights_df)\n",
    "\n",
    "    # Calculate number of flights per airline\n",
    "    num_flights = flights_df.groupby('AIRLINE')['FLIGHT_NUMBER'].count().reset_index()\n",
    "    num_flights.columns = ['AIRLINE', 'NUM_FLIGHTS']\n",
    "\n",
    "    # Calculate number of delayed flights per airline\n",
    "    num_delayed = flights_df[flights_df['IS_DELAYED']].groupby('AIRLINE')['FLIGHT_NUMBER'].count().reset_index()\n",
    "    num_delayed.columns = ['AIRLINE', 'NUM_DELAYED']\n",
    "\n",
    "    # Merge the counts\n",
    "    merged_df = num_flights.merge(num_delayed, on='AIRLINE', how='left')\n",
    "    merged_df['NUM_DELAYED'] = merged_df['NUM_DELAYED'].fillna(0)\n",
    "\n",
    "    # Calculate percentage of delays\n",
    "    merged_df['PERC_DELAY'] = (merged_df['NUM_DELAYED'] / merged_df['NUM_FLIGHTS']) * 100\n",
    "\n",
    "    # Sort and get top three airlines\n",
    "    sorted_df = merged_df.sort_values(['NUM_FLIGHTS', 'PERC_DELAY'], ascending=[False, True])\n",
    "    top_three_airlines_df = sorted_df.head(3)\n",
    "\n",
    "    # Merge to get airline names\n",
    "    top_three_airlines_df = top_three_airlines_df.merge(airlines_df, left_on='AIRLINE', right_on='IATA_CODE', how='left')\n",
    "    top_three_airlines_df = top_three_airlines_df[['AIRLINE_y', 'NUM_FLIGHTS', 'PERC_DELAY']]\n",
    "    top_three_airlines_df.columns = ['AIRLINE_NAME', 'NUM_FLIGHTS', 'PERC_DELAY']\n",
    "\n",
    "    return top_three_airlines_df\n",
    "\n",
    "# Get top three airlines\n",
    "top_three_airlines_df = top_three_airlines(flights_df_raw.copy(), airlines_df.copy())\n",
    "print(\"\\nQuestion 3 Results:\")\n",
    "print(\"Top three airlines:\")\n",
    "print(top_three_airlines_df)\n",
    "\n",
    "# Verify the assertions\n",
    "columns_check = sorted(list(top_three_airlines_df.columns)) == sorted(['NUM_FLIGHTS', 'PERC_DELAY', 'AIRLINE_NAME'])\n",
    "top_airline_check = top_three_airlines_df.loc[0, 'AIRLINE_NAME'] == 'United Air Lines Inc.'\n"
   ]
  },
  {
   "cell_type": "markdown",
   "id": "d3694a6d-5ed6-483e-95cb-136e10a6c224",
   "metadata": {},
   "source": [
    "### 4. Monthly Delay Pattern Analysis\n",
    "Objective: Calculate and visualize monthly delay percentages for each airport."
   ]
  },
  {
   "cell_type": "code",
   "execution_count": 8,
   "id": "299c7bc2-797d-41c2-aba5-35f72cb42000",
   "metadata": {},
   "outputs": [
    {
     "name": "stdout",
     "output_type": "stream",
     "text": [
      "\n",
      "Question 4 Results:\n",
      "Monthly percentage of delays per airport:\n",
      "ORIGIN_AIRPORT      MONTH     BOS     JFK     LAX     SFO\n",
      "0                 January  0.1902  0.2257  0.1738  0.2001\n",
      "1                February  0.3248  0.3174  0.1978  0.2222\n",
      "2                   March  0.1984  0.2736  0.2246  0.1770\n",
      "3                   April  0.1553  0.2020  0.1855  0.1756\n",
      "4                     May  0.1552  0.1552  0.1990  0.2297\n",
      "5                    June  0.2032  0.1938  0.2474  0.2374\n",
      "6                    July  0.1968  0.2019  0.2772  0.2430\n",
      "7                  August  0.1988  0.1985  0.2289  0.2118\n",
      "8               September  0.1274  0.1506  0.1486  0.1399\n",
      "9                November  0.1177  0.1383  0.1741  0.1565\n",
      "10               December  0.1982  0.2563  0.2627  0.2990\n",
      "\n",
      "MONTH column dtype: object\n"
     ]
    }
   ],
   "source": [
    "# Calculate Monthly Percentage of Delays per Airport\n",
    "def monthly_airport_delays(flights_df):\n",
    "    flights_df = data_preprocess(flights_df)\n",
    "    flights_df['SCHEDULED_DEPARTURE'] = pd.to_datetime(flights_df['SCHEDULED_DEPARTURE'])\n",
    "    flights_df['MONTH'] = flights_df['SCHEDULED_DEPARTURE'].dt.strftime('%B')\n",
    "    \n",
    "    # Calculate mean delay for each origin airport and month\n",
    "    monthly_delays = flights_df.groupby(['ORIGIN_AIRPORT', 'MONTH'])['IS_DELAYED'].mean().round(4).reset_index()\n",
    "    monthly_delays_pivot = monthly_delays.pivot(index='MONTH', columns='ORIGIN_AIRPORT', values='IS_DELAYED')\n",
    "    monthly_delays_df = monthly_delays_pivot.reset_index()\n",
    "\n",
    "    # Sort months in the correct order while keeping as object type\n",
    "    month_order = ['January', 'February', 'March', 'April', 'May', 'June', 'July', 'August', 'September', \n",
    "                   'October', 'November', 'December']\n",
    "    \n",
    "    # Create a temporary categorical for sorting\n",
    "    monthly_delays_df['MONTH'] = pd.Categorical(monthly_delays_df['MONTH'], categories=month_order, ordered=True)\n",
    "    monthly_delays_df = monthly_delays_df.sort_values('MONTH')\n",
    "    \n",
    "    # Convert back to object type after sorting\n",
    "    monthly_delays_df['MONTH'] = monthly_delays_df['MONTH'].astype(str)\n",
    "    \n",
    "    monthly_delays_df.reset_index(drop=True, inplace=True)\n",
    "\n",
    "    return monthly_delays_df\n",
    "\n",
    "# Get monthly percentage of delays per airport\n",
    "monthly_airport_delays_df = monthly_airport_delays(flights_df_raw.copy())\n",
    "print(\"\\nQuestion 4 Results:\")\n",
    "print(\"Monthly percentage of delays per airport:\")\n",
    "print(monthly_airport_delays_df)\n",
    "print(\"\\nMONTH column dtype:\", monthly_airport_delays_df['MONTH'].dtype)"
   ]
  },
  {
   "cell_type": "markdown",
   "id": "d48e941d-c739-4d38-ad2a-415e52ed16bb",
   "metadata": {},
   "source": [
    "## Key Findings\n",
    "### Flight Volume Distribution:\n",
    "Analysis of busiest airports\n",
    "Operational patterns\n",
    "### Airline Performance Metrics:\n",
    "Top carriers by volume\n",
    "Efficiency rankings\n",
    "Delay statistics\n",
    "### Temporal Patterns:\n",
    "Monthly delay variations\n",
    "Seasonal trends\n",
    "Airport-specific characteristics\n",
    "### Conclusions\n",
    "Summary of major findings\n",
    "Operational implications\n",
    "Potential areas for further analysis"
   ]
  }
 ],
 "metadata": {
  "firstTimeUsingHintbot": true,
  "kernelspec": {
   "display_name": "Python 3.10 (ipykernel)",
   "language": "python",
   "name": "python3"
  },
  "language_info": {
   "codemirror_mode": {
    "name": "ipython",
    "version": 3
   },
   "file_extension": ".py",
   "mimetype": "text/x-python",
   "name": "python",
   "nbconvert_exporter": "python",
   "pygments_lexer": "ipython3",
   "version": "3.10.11"
  }
 },
 "nbformat": 4,
 "nbformat_minor": 5
}
